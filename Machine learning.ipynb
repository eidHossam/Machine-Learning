{
  "nbformat": 4,
  "nbformat_minor": 0,
  "metadata": {
    "colab": {
      "name": "Assignment.ipynb",
      "provenance": [],
      "collapsed_sections": []
    },
    "kernelspec": {
      "name": "python3",
      "display_name": "Python 3"
    },
    "language_info": {
      "name": "python"
    }
  },
  "cells": [
    {
      "cell_type": "code",
      "execution_count": null,
      "metadata": {
        "id": "bO3_ABrq_XPM",
        "colab": {
          "base_uri": "https://localhost:8080/"
        },
        "outputId": "b808a092-4162-49dc-dbdc-5fae1704258c"
      },
      "outputs": [
        {
          "output_type": "stream",
          "name": "stdout",
          "text": [
            "<class 'pandas.core.frame.DataFrame'>\n",
            "Int64Index: 5169 entries, 0 to 5168\n",
            "Data columns (total 7 columns):\n",
            " #   Column     Non-Null Count  Dtype  \n",
            "---  ------     --------------  -----  \n",
            " 0   Date       5169 non-null   object \n",
            " 1   Open       5169 non-null   float64\n",
            " 2   High       5169 non-null   float64\n",
            " 3   Low        5169 non-null   float64\n",
            " 4   Close      5169 non-null   float64\n",
            " 5   Adj Close  5169 non-null   float64\n",
            " 6   Volume     5169 non-null   int64  \n",
            "dtypes: float64(5), int64(1), object(1)\n",
            "memory usage: 323.1+ KB\n"
          ]
        }
      ],
      "source": [
        "import pandas as pd\n",
        "import numpy as np\n",
        "from sklearn.preprocessing import normalize\n",
        "from sklearn.model_selection import train_test_split\n",
        "from sklearn.preprocessing import StandardScaler\n",
        "from sklearn.linear_model import LinearRegression\n",
        "from sklearn.metrics import accuracy_score\n",
        "from sklearn.metrics import precision_score\n",
        "from sklearn.metrics import mean_absolute_error\n",
        "\n",
        "data = pd.read_csv(\"/content/stock.csv\")\n",
        "\n",
        "data.drop_duplicates(keep='first' , inplace = True)\n",
        "\n",
        "\n",
        "data.info()\n",
        "\n",
        "\n"
      ]
    },
    {
      "cell_type": "code",
      "source": [
        "x = data.iloc[ : , 1 : -1].values\n",
        "y = data.iloc[ : , -1].values\n",
        "\n",
        "\n",
        "\n",
        "x = normalize(x)\n",
        "x_train, x_test, y_train, y_test = train_test_split(x,y,test_size = 0.1 , random_state = 32 )\n",
        "\n",
        "reg = LinearRegression()\n",
        "reg.fit(x_train,y_train)\n",
        "\n",
        "y_pre = reg.predict(x_test)\n"
      ],
      "metadata": {
        "id": "27shkcNvjy2L"
      },
      "execution_count": null,
      "outputs": []
    },
    {
      "cell_type": "code",
      "source": [
        "from sklearn.metrics import r2_score\n",
        "\n",
        "r2_score(y_test,y_pre)"
      ],
      "metadata": {
        "colab": {
          "base_uri": "https://localhost:8080/"
        },
        "id": "ufAjQM1q9i64",
        "outputId": "33257504-e9d9-4a67-a9e7-06bba67a985d"
      },
      "execution_count": null,
      "outputs": [
        {
          "output_type": "execute_result",
          "data": {
            "text/plain": [
              "0.5484954731395457"
            ]
          },
          "metadata": {},
          "execution_count": 10
        }
      ]
    },
    {
      "cell_type": "code",
      "source": [
        "from sklearn.metrics import mean_absolute_error\n",
        "\n",
        "mean_absolute_error(y_test,y_pre)\n"
      ],
      "metadata": {
        "colab": {
          "base_uri": "https://localhost:8080/"
        },
        "id": "_PjZL58KKr59",
        "outputId": "993bccf0-8fb1-4b1d-ec8c-37dc96f4a148"
      },
      "execution_count": null,
      "outputs": [
        {
          "output_type": "execute_result",
          "data": {
            "text/plain": [
              "931641.0856195906"
            ]
          },
          "metadata": {},
          "execution_count": 3
        }
      ]
    },
    {
      "cell_type": "code",
      "source": [
        "from sklearn.tree import DecisionTreeRegressor\n",
        "\n",
        "reg2 = DecisionTreeRegressor(random_state = 0)\n",
        "reg2.fit(x_train,y_train)\n",
        "y_tree = reg2.predict(x_test)\n",
        "\n",
        "mean_absolute_error(y_test,y_tree)"
      ],
      "metadata": {
        "id": "pfKoS_C-XluD",
        "colab": {
          "base_uri": "https://localhost:8080/"
        },
        "outputId": "b78e90c8-45ff-4e31-ad44-2e7be20cac00"
      },
      "execution_count": null,
      "outputs": [
        {
          "output_type": "execute_result",
          "data": {
            "text/plain": [
              "881627.0793036751"
            ]
          },
          "metadata": {},
          "execution_count": 4
        }
      ]
    },
    {
      "cell_type": "code",
      "source": [
        "import matplotlib.pyplot as plt\n",
        "\n",
        "plt.scatter(x_train[ : , 2],y_train, color = \"black\")\n",
        "plt.plot(x_test,y_pre, color = \"green\")\n",
        "plt.show()"
      ],
      "metadata": {
        "colab": {
          "base_uri": "https://localhost:8080/",
          "height": 276
        },
        "id": "tsKaBYEDTcK1",
        "outputId": "d70e6a3a-47c7-48b6-9c22-ca4b583ae026"
      },
      "execution_count": null,
      "outputs": [
        {
          "output_type": "display_data",
          "data": {
            "text/plain": [
              "<Figure size 432x288 with 1 Axes>"
            ],
            "image/png": "[encoded data removed]"
          },
          "metadata": {
            "needs_background": "light"
          }
        }
      ]
    },
    {
      "cell_type": "code",
      "source": [
        "from sklearn.feature_selection import SelectKBest\n",
        "from sklearn.feature_selection import chi2\n",
        "from sklearn.model_selection import train_test_split\n",
        "from sklearn.metrics import mean_absolute_error\n",
        "\n",
        "\n",
        "x_new = SelectKBest(chi2 , k = 5).fit_transform(x,y)\n",
        "\n",
        "xn_train, xn_test , yn_train , yn_test = train_test_split(x_new,y, test_size = 0.05 , random_state = 1)\n",
        "reg2 = LinearRegression()\n",
        "reg2.fit(xn_train,yn_train)\n",
        "\n",
        "yn_pre = reg.predict(xn_train)\n",
        "\n",
        "reg2.score(xn_test,yn_test)"
      ],
      "metadata": {
        "colab": {
          "base_uri": "https://localhost:8080/"
        },
        "id": "40f5Sq4aPauy",
        "outputId": "2eb4cc7f-33eb-4adc-e24d-d03b87008d4e"
      },
      "execution_count": null,
      "outputs": [
        {
          "output_type": "execute_result",
          "data": {
            "text/plain": [
              "0.6590500503993932"
            ]
          },
          "metadata": {},
          "execution_count": 6
        }
      ]
    },
    {
      "cell_type": "code",
      "source": [
        "from sklearn.svm import SVC\n",
        "\n",
        "s = SVC()\n",
        "s.fit(x_train,y_train)\n",
        "\n",
        "sm_predict = s.predict(x_test)\n",
        "\n",
        "print(mean_absolute_error(y_test,sm_predict))\n"
      ],
      "metadata": {
        "colab": {
          "base_uri": "https://localhost:8080/"
        },
        "id": "5yBe-4FiffK3",
        "outputId": "1698449f-de8a-4482-cf59-a70d2943f14d"
      },
      "execution_count": null,
      "outputs": [
        {
          "output_type": "stream",
          "name": "stdout",
          "text": [
            "1092428.0464216634\n"
          ]
        }
      ]
    },
    {
      "cell_type": "code",
      "source": [
        "from sklearn.neighbors import KNeighborsRegressor\n",
        "kn_reg = KNeighborsRegressor(n_neighbors= 60)\n",
        "\n",
        "kn_reg.fit(x_train,y_train)\n",
        "\n",
        "kn_reg.score(x_test,y_test)"
      ],
      "metadata": {
        "colab": {
          "base_uri": "https://localhost:8080/"
        },
        "id": "2DHC2fokidGz",
        "outputId": "7586589f-ea25-4121-81f1-ce6fea44a13b"
      },
      "execution_count": null,
      "outputs": [
        {
          "output_type": "execute_result",
          "data": {
            "text/plain": [
              "0.6105041308272336"
            ]
          },
          "metadata": {},
          "execution_count": 11
        }
      ]
    },
    {
      "cell_type": "code",
      "source": [
        "from sklearn.naive_bayes import GaussianNB\n",
        "\n",
        "Gnb = GaussianNB()\n",
        "Gnb.fit(x_train,y_train)\n",
        "\n",
        "pre = Gnb.predict(x_test)\n",
        "\n",
        "print(mean_absolute_error(y_test,pre))\n"
      ],
      "metadata": {
        "colab": {
          "base_uri": "https://localhost:8080/"
        },
        "id": "1FpcAi_CVcsE",
        "outputId": "1f34c7f7-f093-456c-e3c3-c40fbd2e7118"
      },
      "execution_count": null,
      "outputs": [
        {
          "output_type": "stream",
          "name": "stdout",
          "text": [
            "940937.330754352\n"
          ]
        }
      ]
    },
    {
      "cell_type": "code",
      "source": [
        "from sklearn.ensemble import RandomForestRegressor\n",
        "rfg = RandomForestRegressor(random_state= 42, n_jobs=-1, max_depth=5,\n",
        "                                       n_estimators=100, oob_score=True,)\n",
        "\n",
        "rfg.fit(x_train,y_train)\n",
        "rfg_pre = rfg.predict(x_test)\n",
        "\n",
        "print(mean_absolute_error(y_test, rfg_pre))\n",
        "print(rfg.oob_score_)"
      ],
      "metadata": {
        "colab": {
          "base_uri": "https://localhost:8080/"
        },
        "id": "4U3RaHFDWhSz",
        "outputId": "6589afc2-c0ae-4a5b-c786-3fc53ba3f7c0"
      },
      "execution_count": null,
      "outputs": [
        {
          "output_type": "stream",
          "name": "stdout",
          "text": [
            "785404.9925063415\n",
            "0.5119830757663016\n"
          ]
        }
      ]
    },
    {
      "cell_type": "code",
      "source": [
        "##########################################################################"
      ],
      "metadata": {
        "id": "9OnIxCXCQiS0"
      },
      "execution_count": null,
      "outputs": []
    },
    {
      "cell_type": "code",
      "source": [
        "dataset = pd.read_csv(\"OIL (1).csv\")\n",
        "\n",
        "dataset.drop_duplicates(keep='first' , inplace = True)\n",
        "\n",
        "#dataset.drop(dataset[(dataset['Volume'] == 0)].index , inplace = True)\n",
        "\n",
        "\n",
        "dataset.info()\n",
        "\n",
        "\n",
        "\n"
      ],
      "metadata": {
        "id": "Ej3Z-icoZuN8",
        "colab": {
          "base_uri": "https://localhost:8080/"
        },
        "outputId": "1f6f5eee-00dd-4f54-e9f6-82919c755fe9"
      },
      "execution_count": null,
      "outputs": [
        {
          "output_type": "stream",
          "name": "stdout",
          "text": [
            "<class 'pandas.core.frame.DataFrame'>\n",
            "Int64Index: 2650 entries, 0 to 2649\n",
            "Data columns (total 7 columns):\n",
            " #   Column     Non-Null Count  Dtype  \n",
            "---  ------     --------------  -----  \n",
            " 0   Date       2650 non-null   object \n",
            " 1   Open       2650 non-null   float64\n",
            " 2   High       2650 non-null   float64\n",
            " 3   Low        2650 non-null   float64\n",
            " 4   Close      2650 non-null   float64\n",
            " 5   Adj Close  2650 non-null   float64\n",
            " 6   Volume     2650 non-null   int64  \n",
            "dtypes: float64(5), int64(1), object(1)\n",
            "memory usage: 165.6+ KB\n"
          ]
        }
      ]
    },
    {
      "cell_type": "code",
      "source": [
        "a = dataset.iloc[:, 1:-1].values\n",
        "b = dataset.iloc[:, -1]\n",
        "\n",
        "\n",
        "a_train, a_test, b_train, b_test = train_test_split(a, b, test_size=0.2, random_state=42)\n",
        "reg1 = LinearRegression()\n",
        "reg1.fit(a_train, b_train)\n",
        "b_predict = reg1.predict(a_test)"
      ],
      "metadata": {
        "id": "6ZzeK85flp7r"
      },
      "execution_count": null,
      "outputs": []
    },
    {
      "cell_type": "code",
      "source": [
        "mean_absolute_error(b_test, b_predict)\n"
      ],
      "metadata": {
        "colab": {
          "base_uri": "https://localhost:8080/"
        },
        "id": "yMqSi0trbKOu",
        "outputId": "d992a442-4e66-49e7-e601-e21f9b81b6e8"
      },
      "execution_count": null,
      "outputs": [
        {
          "output_type": "execute_result",
          "data": {
            "text/plain": [
              "19633.748581919997"
            ]
          },
          "metadata": {},
          "execution_count": 16
        }
      ]
    },
    {
      "cell_type": "code",
      "source": [
        "from sklearn.preprocessing import PolynomialFeatures\n",
        "\n",
        "pol = PolynomialFeatures(degree = 3)\n",
        "a_pol = pol.fit_transform(a_train)\n",
        "a_test_pol = pol.fit_transform(a_test)\n",
        "\n",
        "reg1.fit(a_pol , b_train)\n",
        "b_pol = reg1.predict(a_test_pol)\n",
        "\n",
        "print(mean_absolute_error(b_test,b_pol))\n"
      ],
      "metadata": {
        "colab": {
          "base_uri": "https://localhost:8080/"
        },
        "id": "QSuubELiMJE6",
        "outputId": "497ec66b-f8cb-4df2-9dfb-2de2427c46d3"
      },
      "execution_count": null,
      "outputs": [
        {
          "output_type": "stream",
          "name": "stdout",
          "text": [
            "15730.482826373129\n"
          ]
        }
      ]
    },
    {
      "cell_type": "code",
      "source": [
        "r2_score(b_test,b_pol)"
      ],
      "metadata": {
        "colab": {
          "base_uri": "https://localhost:8080/"
        },
        "id": "R1MqdS1C98Ky",
        "outputId": "5b300d44-b185-4d22-f478-9dc781364d8c"
      },
      "execution_count": null,
      "outputs": [
        {
          "output_type": "execute_result",
          "data": {
            "text/plain": [
              "0.540499686265161"
            ]
          },
          "metadata": {},
          "execution_count": 19
        }
      ]
    },
    {
      "cell_type": "code",
      "source": [
        "from sklearn.tree import DecisionTreeRegressor\n",
        "\n",
        "tree = DecisionTreeRegressor(random_state = 0 )\n",
        "tree.fit(a_train,b_train)\n",
        "\n",
        "b_tree_pre = tree.predict(a_test)\n",
        "\n",
        "mean_absolute_error(b_test, b_tree_pre)"
      ],
      "metadata": {
        "colab": {
          "base_uri": "https://localhost:8080/"
        },
        "id": "9xvVGs4QKbjz",
        "outputId": "5d150b0a-cf5c-4223-f7fd-7d6921357b17"
      },
      "execution_count": null,
      "outputs": [
        {
          "output_type": "execute_result",
          "data": {
            "text/plain": [
              "20438.78706199461"
            ]
          },
          "metadata": {},
          "execution_count": 18
        }
      ]
    },
    {
      "cell_type": "code",
      "source": [
        "import matplotlib.pyplot as plt\n",
        "\n",
        "plt.scatter(a_train[ : , 0],b_train, color = \"red\")\n",
        "#plt.plot(a_pol ,b_pol , color = \"black\")"
      ],
      "metadata": {
        "colab": {
          "base_uri": "https://localhost:8080/",
          "height": 293
        },
        "id": "aAVZokdALORm",
        "outputId": "916f987c-ae5a-46cc-cbfc-40d18362d53f"
      },
      "execution_count": null,
      "outputs": [
        {
          "output_type": "execute_result",
          "data": {
            "text/plain": [
              "<matplotlib.collections.PathCollection at 0x7f787f4c00d0>"
            ]
          },
          "metadata": {},
          "execution_count": 17
        },
        {
          "output_type": "display_data",
          "data": {
            "text/plain": [
              "<Figure size 432x288 with 1 Axes>"
            ],
            "image/png": "[encoded data removed]"
          },
          "metadata": {
            "needs_background": "light"
          }
        }
      ]
    },
    {
      "cell_type": "code",
      "source": [
        "from sklearn.ensemble import RandomForestRegressor\n",
        "rfg = RandomForestRegressor(random_state= 0, n_jobs=-1, max_depth=5,\n",
        "                                       n_estimators=100, oob_score=True,)\n",
        "\n",
        "rfg.fit(a_train,b_train)\n",
        "rfg_pre = rfg.predict(a_test)\n",
        "\n",
        "print(mean_absolute_error(b_test, rfg_pre))\n",
        "print(rfg.oob_score_)"
      ],
      "metadata": {
        "colab": {
          "base_uri": "https://localhost:8080/"
        },
        "id": "_rQgHJv9X09g",
        "outputId": "9d510421-7e84-4aeb-db55-b427a5e30438"
      },
      "execution_count": null,
      "outputs": [
        {
          "output_type": "stream",
          "name": "stdout",
          "text": [
            "16414.690161156035\n",
            "0.22267357098523832\n"
          ]
        }
      ]
    },
    {
      "cell_type": "code",
      "source": [
        "from sklearn.naive_bayes import GaussianNB\n",
        "\n",
        "Gnb = GaussianNB()\n",
        "Gnb.fit(a_train,b_train)\n",
        "\n",
        "pre = Gnb.predict(a_test)\n",
        "\n",
        "print(mean_absolute_error(b_test,pre))"
      ],
      "metadata": {
        "colab": {
          "base_uri": "https://localhost:8080/"
        },
        "id": "X2gK9FmNYJf5",
        "outputId": "8d83e576-4e6d-4504-d206-6f3b7b67c53b"
      },
      "execution_count": null,
      "outputs": [
        {
          "output_type": "stream",
          "name": "stdout",
          "text": [
            "27936.98113207547\n"
          ]
        }
      ]
    },
    {
      "cell_type": "code",
      "source": [
        "from sklearn.svm import SVC\n",
        "\n",
        "s = SVC()\n",
        "s.fit(a_train,b_train)\n",
        "\n",
        "sm_predict = s.predict(a_test)\n",
        "\n",
        "print(mean_absolute_error(b_test,sm_predict))\n"
      ],
      "metadata": {
        "colab": {
          "base_uri": "https://localhost:8080/"
        },
        "id": "vdWFHFUVYViO",
        "outputId": "b8bbb345-44eb-47e2-99d1-f342bc7c2889"
      },
      "execution_count": null,
      "outputs": [
        {
          "output_type": "stream",
          "name": "stdout",
          "text": [
            "16471.509433962263\n"
          ]
        }
      ]
    },
    {
      "cell_type": "code",
      "source": [
        "from sklearn.neighbors import KNeighborsRegressor\n",
        "kn_reg = KNeighborsRegressor(n_neighbors= 60)\n",
        "\n",
        "kn_reg.fit(x_train,y_train)\n",
        "\n",
        "kn_reg.score(x_test,y_test)"
      ],
      "metadata": {
        "colab": {
          "base_uri": "https://localhost:8080/"
        },
        "id": "wARyWBISYc2_",
        "outputId": "7ca8847d-5588-4e49-f45f-00fe56ddeb8e"
      },
      "execution_count": null,
      "outputs": [
        {
          "output_type": "execute_result",
          "data": {
            "text/plain": [
              "0.6105041308272336"
            ]
          },
          "metadata": {},
          "execution_count": 75
        }
      ]
    },
    {
      "cell_type": "code",
      "source": [
        "################################################"
      ],
      "metadata": {
        "id": "INacxXCpZDlC"
      },
      "execution_count": null,
      "outputs": []
    },
    {
      "cell_type": "code",
      "source": [
        "data = pd.read_csv(\"/content/train.csv\")\n",
        "\n",
        "q = data.iloc[ : , 1].values\n",
        "e = data.iloc[ : , -1].values\n",
        "\n",
        "data.head()"
      ],
      "metadata": {
        "id": "OtULhqjdapYO",
        "colab": {
          "base_uri": "https://localhost:8080/",
          "height": 204
        },
        "outputId": "71c9c34f-2b70-472b-f4f1-1407a703c60b"
      },
      "execution_count": null,
      "outputs": [
        {
          "output_type": "execute_result",
          "data": {
            "text/plain": [
              "       Id                                            Comment      Topic\n",
              "0   0x840  A few things. You might have negative- frequen...    Biology\n",
              "1   0xbf0  Is it so hard to believe that there exist part...    Physics\n",
              "2  0x1dfc                                     There are bees    Biology\n",
              "3   0xc7e  I'm a medication technician. And that's alot o...    Biology\n",
              "4   0xbba                     Cesium is such a pretty metal.  Chemistry"
            ],
            "text/html": [
              "\n",
              "  <div id=\"df-6ee9deb3-4c75-443b-a24f-21aeaa9dab40\">\n",
              "    <div class=\"colab-df-container\">\n",
              "      <div>\n",
              "<style scoped>\n",
              "    .dataframe tbody tr th:only-of-type {\n",
              "        vertical-align: middle;\n",
              "    }\n",
              "\n",
              "    .dataframe tbody tr th {\n",
              "        vertical-align: top;\n",
              "    }\n",
              "\n",
              "    .dataframe thead th {\n",
              "        text-align: right;\n",
              "    }\n",
              "</style>\n",
              "<table border=\"1\" class=\"dataframe\">\n",
              "  <thead>\n",
              "    <tr style=\"text-align: right;\">\n",
              "      <th></th>\n",
              "      <th>Id</th>\n",
              "      <th>Comment</th>\n",
              "      <th>Topic</th>\n",
              "    </tr>\n",
              "  </thead>\n",
              "  <tbody>\n",
              "    <tr>\n",
              "      <th>0</th>\n",
              "      <td>0x840</td>\n",
              "      <td>A few things. You might have negative- frequen...</td>\n",
              "      <td>Biology</td>\n",
              "    </tr>\n",
              "    <tr>\n",
              "      <th>1</th>\n",
              "      <td>0xbf0</td>\n",
              "      <td>Is it so hard to believe that there exist part...</td>\n",
              "      <td>Physics</td>\n",
              "    </tr>\n",
              "    <tr>\n",
              "      <th>2</th>\n",
              "      <td>0x1dfc</td>\n",
              "      <td>There are bees</td>\n",
              "      <td>Biology</td>\n",
              "    </tr>\n",
              "    <tr>\n",
              "      <th>3</th>\n",
              "      <td>0xc7e</td>\n",
              "      <td>I'm a medication technician. And that's alot o...</td>\n",
              "      <td>Biology</td>\n",
              "    </tr>\n",
              "    <tr>\n",
              "      <th>4</th>\n",
              "      <td>0xbba</td>\n",
              "      <td>Cesium is such a pretty metal.</td>\n",
              "      <td>Chemistry</td>\n",
              "    </tr>\n",
              "  </tbody>\n",
              "</table>\n",
              "</div>\n",
              "      <button class=\"colab-df-convert\" onclick=\"convertToInteractive('df-6ee9deb3-4c75-443b-a24f-21aeaa9dab40')\"\n",
              "              title=\"Convert this dataframe to an interactive table.\"\n",
              "              style=\"display:none;\">\n",
              "        \n",
              "  <svg xmlns=\"http://www.w3.org/2000/svg\" height=\"24px\"viewBox=\"0 0 24 24\"\n",
              "       width=\"24px\">\n",
              "    <path d=\"M0 0h24v24H0V0z\" fill=\"none\"/>\n",
              "    <path d=\"M18.56 5.44l.94 2.06.94-2.06 2.06-.94-2.06-.94-.94-2.06-.94 2.06-2.06.94zm-11 1L8.5 8.5l.94-2.06 2.06-.94-2.06-.94L8.5 2.5l-.94 2.06-2.06.94zm10 10l.94 2.06.94-2.06 2.06-.94-2.06-.94-.94-2.06-.94 2.06-2.06.94z\"/><path d=\"M17.41 7.96l-1.37-1.37c-.4-.4-.92-.59-1.43-.59-.52 0-1.04.2-1.43.59L10.3 9.45l-7.72 7.72c-.78.78-.78 2.05 0 2.83L4 21.41c.39.39.9.59 1.41.59.51 0 1.02-.2 1.41-.59l7.78-7.78 2.81-2.81c.8-.78.8-2.07 0-2.86zM5.41 20L4 18.59l7.72-7.72 1.47 1.35L5.41 20z\"/>\n",
              "  </svg>\n",
              "      </button>\n",
              "      \n",
              "  <style>\n",
              "    .colab-df-container {\n",
              "      display:flex;\n",
              "      flex-wrap:wrap;\n",
              "      gap: 12px;\n",
              "    }\n",
              "\n",
              "    .colab-df-convert {\n",
              "      background-color: #E8F0FE;\n",
              "      border: none;\n",
              "      border-radius: 50%;\n",
              "      cursor: pointer;\n",
              "      display: none;\n",
              "      fill: #1967D2;\n",
              "      height: 32px;\n",
              "      padding: 0 0 0 0;\n",
              "      width: 32px;\n",
              "    }\n",
              "\n",
              "    .colab-df-convert:hover {\n",
              "      background-color: #E2EBFA;\n",
              "      box-shadow: 0px 1px 2px rgba(60, 64, 67, 0.3), 0px 1px 3px 1px rgba(60, 64, 67, 0.15);\n",
              "      fill: #174EA6;\n",
              "    }\n",
              "\n",
              "    [theme=dark] .colab-df-convert {\n",
              "      background-color: #3B4455;\n",
              "      fill: #D2E3FC;\n",
              "    }\n",
              "\n",
              "    [theme=dark] .colab-df-convert:hover {\n",
              "      background-color: #434B5C;\n",
              "      box-shadow: 0px 1px 3px 1px rgba(0, 0, 0, 0.15);\n",
              "      filter: drop-shadow(0px 1px 2px rgba(0, 0, 0, 0.3));\n",
              "      fill: #FFFFFF;\n",
              "    }\n",
              "  </style>\n",
              "\n",
              "      <script>\n",
              "        const buttonEl =\n",
              "          document.querySelector('#df-6ee9deb3-4c75-443b-a24f-21aeaa9dab40 button.colab-df-convert');\n",
              "        buttonEl.style.display =\n",
              "          google.colab.kernel.accessAllowed ? 'block' : 'none';\n",
              "\n",
              "        async function convertToInteractive(key) {\n",
              "          const element = document.querySelector('#df-6ee9deb3-4c75-443b-a24f-21aeaa9dab40');\n",
              "          const dataTable =\n",
              "            await google.colab.kernel.invokeFunction('convertToInteractive',\n",
              "                                                     [key], {});\n",
              "          if (!dataTable) return;\n",
              "\n",
              "          const docLinkHtml = 'Like what you see? Visit the ' +\n",
              "            '<a target=\"_blank\" href=https://colab.research.google.com/notebooks/data_table.ipynb>data table notebook</a>'\n",
              "            + ' to learn more about interactive tables.';\n",
              "          element.innerHTML = '';\n",
              "          dataTable['output_type'] = 'display_data';\n",
              "          await google.colab.output.renderOutput(dataTable, element);\n",
              "          const docLink = document.createElement('div');\n",
              "          docLink.innerHTML = docLinkHtml;\n",
              "          element.appendChild(docLink);\n",
              "        }\n",
              "      </script>\n",
              "    </div>\n",
              "  </div>\n",
              "  "
            ]
          },
          "metadata": {},
          "execution_count": 100
        }
      ]
    },
    {
      "cell_type": "code",
      "source": [
        "from sklearn.preprocessing import LabelEncoder\n",
        "\n",
        "lab_e = LabelEncoder()\n",
        "e = lab_e.fit_transform(e)\n"
      ],
      "metadata": {
        "id": "M76uy_X-a4GX"
      },
      "execution_count": null,
      "outputs": []
    },
    {
      "cell_type": "code",
      "source": [
        "from sklearn.feature_extraction.text import CountVectorizer\n",
        "\n",
        "cv = CountVectorizer()\n",
        "cv.fit(q)\n",
        "q_vec = cv.transform(q)\n",
        "\n",
        "print(q_vec.shape)"
      ],
      "metadata": {
        "colab": {
          "base_uri": "https://localhost:8080/"
        },
        "id": "LfszDKBIZEoO",
        "outputId": "e949b51f-1ab7-4a71-d3e4-0b8b9a596ba9"
      },
      "execution_count": null,
      "outputs": [
        {
          "output_type": "stream",
          "name": "stdout",
          "text": [
            "(8695, 18177)\n"
          ]
        }
      ]
    },
    {
      "cell_type": "code",
      "source": [
        "from sklearn.linear_model import LogisticRegression\n",
        "reg0 = LogisticRegression()\n",
        "\n",
        "reg0.fit(q_vec,e)"
      ],
      "metadata": {
        "id": "TBC1N7JZcSeM",
        "colab": {
          "base_uri": "https://localhost:8080/"
        },
        "outputId": "3e7b45b1-cc24-482f-85f5-6cc5e8329c79"
      },
      "execution_count": null,
      "outputs": [
        {
          "output_type": "stream",
          "name": "stderr",
          "text": [
            "/usr/local/lib/python3.7/dist-packages/sklearn/linear_model/_logistic.py:818: ConvergenceWarning: lbfgs failed to converge (status=1):\n",
            "STOP: TOTAL NO. of ITERATIONS REACHED LIMIT.\n",
            "\n",
            "Increase the number of iterations (max_iter) or scale the data as shown in:\n",
            "    https://scikit-learn.org/stable/modules/preprocessing.html\n",
            "Please also refer to the documentation for alternative solver options:\n",
            "    https://scikit-learn.org/stable/modules/linear_model.html#logistic-regression\n",
            "  extra_warning_msg=_LOGISTIC_SOLVER_CONVERGENCE_MSG,\n"
          ]
        },
        {
          "output_type": "execute_result",
          "data": {
            "text/plain": [
              "LogisticRegression()"
            ]
          },
          "metadata": {},
          "execution_count": 73
        }
      ]
    },
    {
      "cell_type": "code",
      "source": [
        "ds = pd.read_csv(\"/content/test.csv\")\n",
        "\n",
        "w = ds.iloc[ : , 1].values\n",
        "r = ds.iloc[ : , -1].values\n",
        "\n",
        "lab_r = LabelEncoder()\n",
        "r = lab_e.fit_transform(r)\n",
        "\n",
        "w_vec = cv.transform(w)\n",
        "\n",
        "pre = reg0.predict(w_vec)\n",
        "\n",
        "print(r2_score(r , pre))"
      ],
      "metadata": {
        "colab": {
          "base_uri": "https://localhost:8080/"
        },
        "id": "OKuwq1nOBBl9",
        "outputId": "bfc4b9f1-5d32-4617-e9e1-82ee425b8938"
      },
      "execution_count": null,
      "outputs": [
        {
          "output_type": "stream",
          "name": "stdout",
          "text": [
            "0.47757862914671745\n"
          ]
        }
      ]
    },
    {
      "cell_type": "code",
      "source": [
        "from sklearn.feature_extraction.text import TfidfVectorizer\n",
        "\n",
        "tfid = TfidfVectorizer()\n",
        "tfid.fit(q)\n",
        "q_tf = tfid.transform(q)"
      ],
      "metadata": {
        "id": "sh93xa3hC5eQ"
      },
      "execution_count": null,
      "outputs": []
    },
    {
      "cell_type": "code",
      "source": [
        "reg0.fit(q_tf,e)"
      ],
      "metadata": {
        "colab": {
          "base_uri": "https://localhost:8080/"
        },
        "id": "lPzvJCrADmVN",
        "outputId": "ad9e4d01-ffbf-4600-a2bc-9538971ac340"
      },
      "execution_count": null,
      "outputs": [
        {
          "output_type": "stream",
          "name": "stderr",
          "text": [
            "/usr/local/lib/python3.7/dist-packages/sklearn/linear_model/_logistic.py:818: ConvergenceWarning: lbfgs failed to converge (status=1):\n",
            "STOP: TOTAL NO. of ITERATIONS REACHED LIMIT.\n",
            "\n",
            "Increase the number of iterations (max_iter) or scale the data as shown in:\n",
            "    https://scikit-learn.org/stable/modules/preprocessing.html\n",
            "Please also refer to the documentation for alternative solver options:\n",
            "    https://scikit-learn.org/stable/modules/linear_model.html#logistic-regression\n",
            "  extra_warning_msg=_LOGISTIC_SOLVER_CONVERGENCE_MSG,\n"
          ]
        },
        {
          "output_type": "execute_result",
          "data": {
            "text/plain": [
              "LogisticRegression()"
            ]
          },
          "metadata": {},
          "execution_count": 76
        }
      ]
    },
    {
      "cell_type": "code",
      "source": [
        "w_tf = tfid.transform(w)\n",
        "\n",
        "tf_pre = reg0.predict(w_tf)\n",
        "\n",
        "print(r2_score(r , tf_pre))"
      ],
      "metadata": {
        "colab": {
          "base_uri": "https://localhost:8080/"
        },
        "id": "iRISzbdnDzir",
        "outputId": "bfd71719-2776-440f-89d6-b206864f1236"
      },
      "execution_count": null,
      "outputs": [
        {
          "output_type": "stream",
          "name": "stdout",
          "text": [
            "0.496337026663891\n"
          ]
        }
      ]
    },
    {
      "cell_type": "code",
      "source": [
        "from sklearn.metrics import confusion_matrix\n",
        "\n",
        "cm = confusion_matrix(r,tf_pre)\n",
        "cm"
      ],
      "metadata": {
        "colab": {
          "base_uri": "https://localhost:8080/"
        },
        "id": "BY_1hV2tEbEg",
        "outputId": "d85dd21f-1464-4461-e6bd-6a96080c3a1b"
      },
      "execution_count": null,
      "outputs": [
        {
          "output_type": "execute_result",
          "data": {
            "text/plain": [
              "array([[528,  57,  29],\n",
              "       [ 66, 412,  28],\n",
              "       [ 56,  46, 364]])"
            ]
          },
          "metadata": {},
          "execution_count": 115
        }
      ]
    },
    {
      "cell_type": "code",
      "source": [
        "import seaborn as sns\n",
        "plt.figure(figsize= (7,5))\n",
        "sns.heatmap(cm , annot = True , fmt = 'g')\n",
        "plt.xlabel(\"Prediction\")\n",
        "plt.ylabel(\"Truth\")\n",
        "plt.show()"
      ],
      "metadata": {
        "colab": {
          "base_uri": "https://localhost:8080/",
          "height": 334
        },
        "id": "RYbSmhxWE-gA",
        "outputId": "09e022c7-b487-4122-b59c-25f3dfbf198a"
      },
      "execution_count": null,
      "outputs": [
        {
          "output_type": "display_data",
          "data": {
            "text/plain": [
              "<Figure size 504x360 with 2 Axes>"
            ],
            "image/png": "[encoded data removed]"
          },
          "metadata": {
            "needs_background": "light"
          }
        }
      ]
    },
    {
      "cell_type": "code",
      "source": [
        "from sklearn.neighbors import KNeighborsRegressor\n",
        "ra_fo = KNeighborsRegressor(n_neighbors= 50)\n",
        "\n",
        "ra_fo.fit(q_tf,e)\n",
        "\n",
        "KN_pre = ra_fo.predict(w_tf)\n",
        "\n",
        "print(r2_score(r,KN_pre))"
      ],
      "metadata": {
        "colab": {
          "base_uri": "https://localhost:8080/"
        },
        "id": "gvKQkSSOHOad",
        "outputId": "6b580798-0045-4541-9446-debbe361c852"
      },
      "execution_count": null,
      "outputs": [
        {
          "output_type": "stream",
          "name": "stdout",
          "text": [
            "0.31202151467554806\n"
          ]
        }
      ]
    },
    {
      "cell_type": "code",
      "source": [
        "from sklearn.svm import SVC\n",
        "\n",
        "s = SVC()\n",
        "s.fit(q_tf,e)\n",
        "\n",
        "sm_predict = s.predict(w_tf)\n",
        "\n",
        "print(r2_score(r,sm_predict))"
      ],
      "metadata": {
        "colab": {
          "base_uri": "https://localhost:8080/"
        },
        "id": "axIEHmdSH-oL",
        "outputId": "9cac919b-8b7c-4607-88e9-14e4417a013d"
      },
      "execution_count": null,
      "outputs": [
        {
          "output_type": "stream",
          "name": "stdout",
          "text": [
            "0.5075920651741952\n"
          ]
        }
      ]
    },
    {
      "cell_type": "code",
      "source": [
        "##################################################################"
      ],
      "metadata": {
        "id": "LvZpafgPJQJV"
      },
      "execution_count": null,
      "outputs": []
    },
    {
      "cell_type": "code",
      "source": [
        "data = pd.read_csv('/content/spam.csv', encoding='latin-1')\n",
        "\n",
        "data.drop([\"Unnamed: 2\" , \"Unnamed: 3\" , \"Unnamed: 4\"],axis = 1,inplace = True)\n",
        "data.rename(columns = { \"v2\" : \"text\" , \"v1\" :  \"label\"} , inplace = True)"
      ],
      "metadata": {
        "id": "knxpqL05JVlU"
      },
      "execution_count": null,
      "outputs": []
    },
    {
      "cell_type": "code",
      "source": [
        "txt = data.iloc[ : , 1].values\n",
        "lbl = data.iloc[ : , 0].values\n",
        "\n",
        "lbl_enc = LabelEncoder()\n",
        "lbl = lbl_enc.fit_transform(lbl)\n",
        "\n",
        "vectorizer = CountVectorizer()\n",
        "\n",
        "txt_cv = vectorizer.fit_transform(txt)\n",
        "\n",
        "txt_train,txt_test , lbl_train , lbl_test = train_test_split(txt_cv,lbl, test_size= 0.3 , random_state = 32)\n",
        "\n",
        "svm = SVC()\n",
        "\n",
        "svm.fit(txt_train,lbl_train)\n",
        "svm_pre = svm.predict(txt_test)\n",
        "\n",
        "print(svm.score(txt_test,lbl_test))"
      ],
      "metadata": {
        "colab": {
          "base_uri": "https://localhost:8080/"
        },
        "id": "n-gWOkYgT2D_",
        "outputId": "7eb3bbe1-a2e0-4d2c-94dc-1486f82c4652"
      },
      "execution_count": null,
      "outputs": [
        {
          "output_type": "stream",
          "name": "stdout",
          "text": [
            "0.9820574162679426\n"
          ]
        }
      ]
    },
    {
      "cell_type": "code",
      "source": [
        "cm = confusion_matrix(lbl_test,svm_pre)\n",
        "cm"
      ],
      "metadata": {
        "colab": {
          "base_uri": "https://localhost:8080/"
        },
        "id": "vWM1YHqIVLRL",
        "outputId": "a9a96f4c-6dea-42f4-ebae-3160851e5309"
      },
      "execution_count": null,
      "outputs": [
        {
          "output_type": "execute_result",
          "data": {
            "text/plain": [
              "array([[1451,    0],\n",
              "       [  30,  191]])"
            ]
          },
          "metadata": {},
          "execution_count": 155
        }
      ]
    },
    {
      "cell_type": "code",
      "source": [
        "plt.figure(figsize = (7,5))\n",
        "sns.heatmap(cm, annot =True , fmt = 'g')\n",
        "plt.xlabel(\"Prediction\")\n",
        "plt.ylabel(\"Truth\")\n",
        "plt.show()"
      ],
      "metadata": {
        "colab": {
          "base_uri": "https://localhost:8080/",
          "height": 334
        },
        "id": "fc_8Ia3yVbnd",
        "outputId": "1246ce5d-4eb3-48bc-b97e-4f5d3006ea3e"
      },
      "execution_count": null,
      "outputs": [
        {
          "output_type": "display_data",
          "data": {
            "text/plain": [
              "<Figure size 504x360 with 2 Axes>"
            ],
            "image/png": "[encoded data removed]"
          },
          "metadata": {
            "needs_background": "light"
          }
        }
      ]
    },
    {
      "cell_type": "code",
      "source": [
        "vect = TfidfVectorizer()\n",
        "txt_tf = vect.fit_transform(txt)\n",
        "\n",
        "txt_tf_train,txt_tf_test , lbl_train , lbl_test = train_test_split(txt_tf,lbl, test_size= 0.3 , random_state = 32)\n",
        "\n",
        "svm = SVC()\n",
        "\n",
        "svm.fit(txt_tf_train,lbl_train)\n",
        "svm_pre = svm.predict(txt_tf_test)\n",
        "\n",
        "print(svm.score(txt_tf_test,lbl_test))\n"
      ],
      "metadata": {
        "colab": {
          "base_uri": "https://localhost:8080/"
        },
        "id": "g4FsWXWOyd3J",
        "outputId": "96840c48-c03d-412d-8e2d-1e8a4b69c391"
      },
      "execution_count": null,
      "outputs": [
        {
          "output_type": "stream",
          "name": "stdout",
          "text": [
            "0.9820574162679426\n"
          ]
        }
      ]
    },
    {
      "cell_type": "code",
      "source": [
        "cm = confusion_matrix(lbl_test,svm_pre)\n",
        "cm"
      ],
      "metadata": {
        "colab": {
          "base_uri": "https://localhost:8080/"
        },
        "id": "TRuQ3bXFzkhJ",
        "outputId": "352e4b79-a719-4162-d735-92415695ffb8"
      },
      "execution_count": null,
      "outputs": [
        {
          "output_type": "execute_result",
          "data": {
            "text/plain": [
              "array([[1451,    0],\n",
              "       [  30,  191]])"
            ]
          },
          "metadata": {},
          "execution_count": 151
        }
      ]
    },
    {
      "cell_type": "code",
      "source": [
        "plt.figure(figsize = (7,5))\n",
        "sns.heatmap(cm, annot =True , fmt = 'g')\n",
        "plt.xlabel(\"Prediction\")\n",
        "plt.ylabel(\"Truth\")\n",
        "plt.show()"
      ],
      "metadata": {
        "colab": {
          "base_uri": "https://localhost:8080/",
          "height": 334
        },
        "id": "yAlLbRqGzoS_",
        "outputId": "266dd245-0986-43f4-e45c-a11b1fe4f4c9"
      },
      "execution_count": null,
      "outputs": [
        {
          "output_type": "display_data",
          "data": {
            "text/plain": [
              "<Figure size 504x360 with 2 Axes>"
            ],
            "image/png": "[encoded data removed]"
          },
          "metadata": {
            "needs_background": "light"
          }
        }
      ]
    }
  ]
}